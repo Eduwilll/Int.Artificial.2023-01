{
 "cells": [
  {
   "cell_type": "code",
   "execution_count": 114,
   "metadata": {},
   "outputs": [],
   "source": [
    "import numpy as np\n",
    "class VetorOrdenado:\n",
    "  def __init__(self, tamanho):\n",
    "    self.tamanho = tamanho\n",
    "    self.ultima_posicao = -1\n",
    "    self.valores = np.empty(self.tamanho, dtype=int)\n",
    "\n",
    "# função que mostra os valores \n",
    "  def mostrar(self):\n",
    "    if self.ultima_posicao == -1:\n",
    "      print('O vetor está vazio')\n",
    "    else:\n",
    "      for i in range(self.ultima_posicao + 1):\n",
    "        print(i, ' -> ', self.valores[i])\n",
    "  \n",
    "  # função que insere os valores\n",
    "  def inserir(self, valor):\n",
    "    if self.ultima_posicao == self.tamanho - 1:\n",
    "      print('Capacidade máxima atingida')\n",
    "      return\n",
    "\n",
    "    posicao = 0\n",
    "    for i in range(self.ultima_posicao + 1):\n",
    "      posicao = i\n",
    "      if self.valores[i] > valor:\n",
    "        break\n",
    "      if i == self.ultima_posicao:\n",
    "        posicao = i + 1\n",
    "    x = self.ultima_posicao\n",
    "    while x >= posicao:\n",
    "      self.valores[x + 1] = self.valores[x]\n",
    "      x -= 1\n",
    "    self.valores[posicao] = valor\n",
    "    self.ultima_posicao += 1"
   ]
  },
  {
   "cell_type": "code",
   "execution_count": 115,
   "metadata": {},
   "outputs": [
    {
     "name": "stdout",
     "output_type": "stream",
     "text": [
      "O vetor está vazio\n"
     ]
    }
   ],
   "source": [
    "v1 = VetorOrdenado(5)\n",
    "v1.mostrar()"
   ]
  },
  {
   "cell_type": "code",
   "execution_count": 116,
   "metadata": {},
   "outputs": [
    {
     "name": "stdout",
     "output_type": "stream",
     "text": [
      "0  ->  6\n"
     ]
    }
   ],
   "source": [
    "v1.inserir(6)\n",
    "v1.mostrar()"
   ]
  },
  {
   "cell_type": "code",
   "execution_count": 117,
   "metadata": {},
   "outputs": [
    {
     "name": "stdout",
     "output_type": "stream",
     "text": [
      "0  ->  5\n",
      "1  ->  6\n"
     ]
    }
   ],
   "source": [
    "v1.inserir(5)\n",
    "v1.mostrar()"
   ]
  },
  {
   "cell_type": "code",
   "execution_count": 118,
   "metadata": {},
   "outputs": [
    {
     "name": "stdout",
     "output_type": "stream",
     "text": [
      "0  ->  5\n",
      "1  ->  6\n",
      "2  ->  8\n"
     ]
    }
   ],
   "source": [
    "v1.inserir(8)\n",
    "v1.mostrar()"
   ]
  },
  {
   "cell_type": "code",
   "execution_count": 119,
   "metadata": {},
   "outputs": [
    {
     "name": "stdout",
     "output_type": "stream",
     "text": [
      "0  ->  3\n",
      "1  ->  5\n",
      "2  ->  6\n",
      "3  ->  8\n"
     ]
    }
   ],
   "source": [
    "v1.inserir(3)\n",
    "v1.mostrar()"
   ]
  },
  {
   "cell_type": "code",
   "execution_count": 120,
   "metadata": {},
   "outputs": [
    {
     "name": "stdout",
     "output_type": "stream",
     "text": [
      "0  ->  3\n",
      "1  ->  5\n",
      "2  ->  6\n",
      "3  ->  7\n",
      "4  ->  8\n"
     ]
    }
   ],
   "source": [
    "v1.inserir(7)\n",
    "v1.mostrar()"
   ]
  },
  {
   "cell_type": "code",
   "execution_count": 121,
   "metadata": {},
   "outputs": [
    {
     "name": "stdout",
     "output_type": "stream",
     "text": [
      "Capacidade máxima atingida\n",
      "0  ->  3\n",
      "1  ->  5\n",
      "2  ->  6\n",
      "3  ->  7\n",
      "4  ->  8\n"
     ]
    }
   ],
   "source": [
    "v1.inserir(4)\n",
    "v1.mostrar()"
   ]
  },
  {
   "cell_type": "markdown",
   "metadata": {},
   "source": [
    "#### No problema de Arad-Bucareste, podemos estimar a distância do estado atual até um objetivo calculando a distância em linha reta entre os dois pontos do mapa.\n",
    "<div>\n",
    "<img src=\"Arad-Bucareste.PNG\" width=\"700\" alt=\"Arad-Bucareste\"/>\n",
    "</div>"
   ]
  },
  {
   "cell_type": "code",
   "execution_count": 122,
   "metadata": {},
   "outputs": [],
   "source": [
    "class Vertice:\n",
    "  def __init__(self, cidade, km_linhareta):\n",
    "    self.cidade = cidade\n",
    "    self.km_linhareta = km_linhareta\n",
    "    self.visitado = False  \n",
    "    self.adjacentes = []\n",
    "\n",
    "  def inserir_adjacente(self, adjacente):\n",
    "    self.adjacentes.append(adjacente)\n",
    "\n",
    "  def mostra_adjacentes(self):\n",
    "    for i in self.adjacentes:\n",
    "      print(i.vertice.cidade, i.km_custo)\n",
    "\n",
    "class Adjacente:\n",
    "  def __init__(self, vertice, km_custo):\n",
    "    self.vertice = vertice\n",
    "    self.km_custo = km_custo\n",
    "\n",
    "class Grafo:\n",
    "  arad = Vertice('Arad', 366)\n",
    "  zerind = Vertice('Zerind', 374)\n",
    "  oradea = Vertice('Oradea', 380)\n",
    "  sibiu = Vertice('Sibiu', 253)\n",
    "  timisoara = Vertice('Timisoara', 329)\n",
    "  lugoj = Vertice('Lugoj', 244)\n",
    "  mehadia = Vertice('Mehadia', 241)\n",
    "  drobeta = Vertice('Dobreta', 242)\n",
    "  craiova = Vertice('Craiova', 160)\n",
    "  rimnicu = Vertice('Rimnicu', 193)\n",
    "  fagaras = Vertice('Fagaras', 178)\n",
    "  pitesti = Vertice('Pitesti', 98)\n",
    "  bucharest = Vertice('Bucharest', 0)\n",
    "  giurgiu = Vertice('Giurgiu', 77)\n",
    "\n",
    "  arad.inserir_adjacente(Adjacente(zerind, 75))\n",
    "  arad.inserir_adjacente(Adjacente(sibiu, 140))\n",
    "  arad.inserir_adjacente(Adjacente(timisoara, 118))\n",
    "\n",
    "  zerind.inserir_adjacente(Adjacente(arad, 75))\n",
    "  zerind.inserir_adjacente(Adjacente(oradea, 71))\n",
    "\n",
    "  oradea.inserir_adjacente(Adjacente(zerind, 71))\n",
    "  oradea.inserir_adjacente(Adjacente(sibiu, 151))\n",
    "\n",
    "  sibiu.inserir_adjacente(Adjacente(oradea, 151))\n",
    "  sibiu.inserir_adjacente(Adjacente(arad, 140))\n",
    "  sibiu.inserir_adjacente(Adjacente(fagaras, 99))\n",
    "  sibiu.inserir_adjacente(Adjacente(rimnicu, 80))\n",
    "\n",
    "  timisoara.inserir_adjacente(Adjacente(arad, 118))\n",
    "  timisoara.inserir_adjacente(Adjacente(lugoj, 111))\n",
    "\n",
    "  lugoj.inserir_adjacente(Adjacente(timisoara, 111))\n",
    "  lugoj.inserir_adjacente(Adjacente(mehadia, 70))\n",
    "\n",
    "  mehadia.inserir_adjacente(Adjacente(lugoj, 70))\n",
    "  mehadia.inserir_adjacente(Adjacente(drobeta, 75))\n",
    "\n",
    "  drobeta.inserir_adjacente(Adjacente(mehadia, 75))\n",
    "  drobeta.inserir_adjacente(Adjacente(craiova, 120))\n",
    "\n",
    "  craiova.inserir_adjacente(Adjacente(drobeta, 120))\n",
    "  craiova.inserir_adjacente(Adjacente(pitesti, 138))\n",
    "  craiova.inserir_adjacente(Adjacente(rimnicu, 146))\n",
    "\n",
    "  rimnicu.inserir_adjacente(Adjacente(craiova, 146))\n",
    "  rimnicu.inserir_adjacente(Adjacente(sibiu, 80))\n",
    "  rimnicu.inserir_adjacente(Adjacente(pitesti, 97))\n",
    "\n",
    "  fagaras.inserir_adjacente(Adjacente(sibiu, 99))\n",
    "  fagaras.inserir_adjacente(Adjacente(bucharest, 211))\n",
    "\n",
    "  pitesti.inserir_adjacente(Adjacente(rimnicu, 97))\n",
    "  pitesti.inserir_adjacente(Adjacente(craiova, 138))\n",
    "  pitesti.inserir_adjacente(Adjacente(bucharest, 101))\n",
    "\n",
    "  bucharest.inserir_adjacente(Adjacente(fagaras, 211))\n",
    "  bucharest.inserir_adjacente(Adjacente(pitesti, 101))\n",
    "  bucharest.inserir_adjacente(Adjacente(giurgiu, 90))\n",
    "\n",
    "\n",
    "\n",
    "\n"
   ]
  },
  {
   "cell_type": "code",
   "execution_count": 123,
   "metadata": {},
   "outputs": [],
   "source": [
    "grafo = Grafo()"
   ]
  },
  {
   "cell_type": "code",
   "execution_count": 124,
   "metadata": {},
   "outputs": [
    {
     "name": "stdout",
     "output_type": "stream",
     "text": [
      "Zerind 75\n",
      "Sibiu 140\n",
      "Timisoara 118\n"
     ]
    }
   ],
   "source": [
    "grafo.arad.mostra_adjacentes()"
   ]
  },
  {
   "cell_type": "code",
   "execution_count": 125,
   "metadata": {},
   "outputs": [],
   "source": [
    "import numpy as np\n",
    "class VetorOrdenado:\n",
    "  \n",
    "  def __init__(self, tamanho):\n",
    "    self.tamanho = tamanho\n",
    "    self.ultima_posicao = -1\n",
    "    self.valores = np.empty(self.tamanho, dtype=object)\n",
    "\n",
    "  # Mostrar\n",
    "  def mostrar(self):\n",
    "    if self.ultima_posicao == -1:\n",
    "      print('O vetor está vazio')\n",
    "    else:\n",
    "      for i in range(self.ultima_posicao + 1):\n",
    "        print(i, ' -> ', self.valores[i].cidade, ' -> ', self.valores[i].km_linhareta) \n",
    "\n",
    "  # Inserir\n",
    "  def inserir(self, vertice):\n",
    "    if self.ultima_posicao == self.tamanho - 1:\n",
    "      print('Capacidade máxima atingida')\n",
    "      return\n",
    "    posicao = 0\n",
    "    for i in range(self.ultima_posicao + 1):\n",
    "      posicao = i\n",
    "      if self.valores[i].km_linhareta > vertice.km_linhareta:\n",
    "        break\n",
    "      if i == self.ultima_posicao:\n",
    "        posicao = i + 1\n",
    "    x = self.ultima_posicao\n",
    "    while x >= posicao:\n",
    "      self.valores[x + 1] = self.valores[x]\n",
    "      x -= 1\n",
    "    self.valores[posicao] = vertice\n",
    "    self.ultima_posicao += 1"
   ]
  },
  {
   "cell_type": "code",
   "execution_count": 126,
   "metadata": {},
   "outputs": [],
   "source": [
    "class Busca_Gulosa:\n",
    "  def __init__(self, objetivo):\n",
    "    self.objetivo = objetivo\n",
    "    self.encontrado = False\n",
    "\n",
    "  def buscar(self, atual):\n",
    "    print('-------')\n",
    "    print('Atual: {}'.format(atual.cidade))\n",
    "    atual.visitado = True\n",
    "\n",
    "    if atual == self.objetivo:\n",
    "      self.encontrado = True\n",
    "    else:\n",
    "      print(f\"***** Qtde adjacente atual: {len(atual.adjacentes)}\")\n",
    "      vetor_ordenado = VetorOrdenado(len(atual.adjacentes))\n",
    "      for adjacente in atual.adjacentes:\n",
    "        if adjacente.vertice.visitado == False:\n",
    "          adjacente.vertice.visitado == True\n",
    "          vetor_ordenado.inserir(adjacente.vertice)\n",
    "      vetor_ordenado.mostrar()\n",
    "\n",
    "      print(f\"***** vetor_ordenado.valores[0]: {vetor_ordenado.valores[0].cidade}\")\n",
    "      if vetor_ordenado.valores[0] != None:\n",
    "        self.buscar(vetor_ordenado.valores[0])  "
   ]
  },
  {
   "cell_type": "code",
   "execution_count": 127,
   "metadata": {},
   "outputs": [
    {
     "name": "stdout",
     "output_type": "stream",
     "text": [
      "-------\n",
      "Atual: Arad\n",
      "***** Qtde adjacente atual: 3\n",
      "0  ->  Sibiu  ->  253\n",
      "1  ->  Timisoara  ->  329\n",
      "2  ->  Zerind  ->  374\n",
      "***** vetor_ordenado.valores[0]: Sibiu\n",
      "-------\n",
      "Atual: Sibiu\n",
      "***** Qtde adjacente atual: 4\n",
      "0  ->  Fagaras  ->  178\n",
      "1  ->  Rimnicu  ->  193\n",
      "2  ->  Oradea  ->  380\n",
      "***** vetor_ordenado.valores[0]: Fagaras\n",
      "-------\n",
      "Atual: Fagaras\n",
      "***** Qtde adjacente atual: 2\n",
      "0  ->  Bucharest  ->  0\n",
      "***** vetor_ordenado.valores[0]: Bucharest\n",
      "-------\n",
      "Atual: Bucharest\n"
     ]
    }
   ],
   "source": [
    "bg = Busca_Gulosa(grafo.bucharest)\n",
    "bg.buscar(grafo.arad)\n"
   ]
  }
 ],
 "metadata": {
  "interpreter": {
   "hash": "369f2c481f4da34e4445cda3fffd2e751bd1c4d706f27375911949ba6bb62e1c"
  },
  "kernelspec": {
   "display_name": "Python 3.10.5 64-bit",
   "language": "python",
   "name": "python3"
  },
  "language_info": {
   "codemirror_mode": {
    "name": "ipython",
    "version": 3
   },
   "file_extension": ".py",
   "mimetype": "text/x-python",
   "name": "python",
   "nbconvert_exporter": "python",
   "pygments_lexer": "ipython3",
   "version": "3.10.5"
  },
  "orig_nbformat": 4
 },
 "nbformat": 4,
 "nbformat_minor": 2
}
