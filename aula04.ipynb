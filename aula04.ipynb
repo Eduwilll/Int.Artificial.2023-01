{
 "cells": [
  {
   "cell_type": "code",
   "execution_count": 16,
   "metadata": {},
   "outputs": [],
   "source": [
    "class Pessoa:\n",
    "    def __init__(self, nome, idade, civil):\n",
    "        self.nome = nome\n",
    "        self.idade = idade\n",
    "        self.civil = civil\n",
    "#métodos\n",
    "    def apresentacao(self):\n",
    "        print(f\"O nome dela é {self.nome}, tem {self.idade} anos de idade e está {self.civil} no momento\")\n",
    "\n",
    "    def adiciona_idade(self, nova_idade):\n",
    "        self.idade = nova_idade\n",
    "        print(f\"O nome dela é {self.nome}, está {self.idade} anos de idade.\")\n",
    "\n",
    "    def mudar_civil(self, estado_novo):\n",
    "        self.civil = estado_novo\n",
    "        print(f\"é {self.nome}, está {self.civil} no momento\")"
   ]
  },
  {
   "cell_type": "code",
   "execution_count": 17,
   "metadata": {},
   "outputs": [
    {
     "name": "stdout",
     "output_type": "stream",
     "text": [
      "O nome dela é Carla, tem 15 anos de idade e está casada no momento\n"
     ]
    }
   ],
   "source": [
    "pessoa = Pessoa(\"Carla\",15,\"casada\")\n",
    "pessoa.apresentacao()"
   ]
  },
  {
   "cell_type": "code",
   "execution_count": 18,
   "metadata": {},
   "outputs": [
    {
     "name": "stdout",
     "output_type": "stream",
     "text": [
      "O nome dela é Carla, está 20 anos de idade.\n",
      "é Carla, está solteira no momento\n",
      "O nome dela é Carla, tem 20 anos de idade e está solteira no momento\n"
     ]
    }
   ],
   "source": [
    "pessoa.adiciona_idade(20)\n",
    "pessoa.mudar_civil(\"solteira\")\n",
    "pessoa.apresentacao()"
   ]
  }
 ],
 "metadata": {
  "interpreter": {
   "hash": "369f2c481f4da34e4445cda3fffd2e751bd1c4d706f27375911949ba6bb62e1c"
  },
  "kernelspec": {
   "display_name": "Python 3.10.5 64-bit",
   "language": "python",
   "name": "python3"
  },
  "language_info": {
   "codemirror_mode": {
    "name": "ipython",
    "version": 3
   },
   "file_extension": ".py",
   "mimetype": "text/x-python",
   "name": "python",
   "nbconvert_exporter": "python",
   "pygments_lexer": "ipython3",
   "version": "3.10.5"
  },
  "orig_nbformat": 4
 },
 "nbformat": 4,
 "nbformat_minor": 2
}
